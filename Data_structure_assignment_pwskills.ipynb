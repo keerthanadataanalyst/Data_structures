{
 "cells": [
  {
   "cell_type": "code",
   "execution_count": null,
   "id": "c05c1520-37fb-45ec-97b5-72e696b6c7dc",
   "metadata": {},
   "outputs": [],
   "source": [
    "#1. Discuss string slicing and provide examples"
   ]
  },
  {
   "cell_type": "code",
   "execution_count": null,
   "id": "b8eded57-ba80-46ea-9ea6-4ea9b681b690",
   "metadata": {},
   "outputs": [],
   "source": [
    "'''\n",
    "A. String slicing - It is a feature in python which allows us to extract a certain part of the string (sub-string)\n",
    "\n",
    "Syntax - [ Start : End : Step]\n",
    "\n",
    "Start - it is where the slicing begins, default is 0\n",
    "\n",
    "End - It is where the slicing ends, if not mentioned, slicing goes to the end of the string\n",
    "\n",
    "Step - it is the interval between the indices, default is 1\n",
    "'''"
   ]
  },
  {
   "cell_type": "code",
   "execution_count": 5,
   "id": "b40ae4fe-830f-48bd-bd3e-6833925c10ed",
   "metadata": {},
   "outputs": [
    {
     "data": {
      "text/plain": [
       "'I love'"
      ]
     },
     "execution_count": 5,
     "metadata": {},
     "output_type": "execute_result"
    }
   ],
   "source": [
    "#EXAMPLE 1\n",
    "#Basic slicing\n",
    "a ='I love italy'\n",
    "a [0:6]\n"
   ]
  },
  {
   "cell_type": "code",
   "execution_count": 12,
   "id": "16db98c0-5041-405f-8e1d-3c4c74270164",
   "metadata": {},
   "outputs": [
    {
     "name": "stdout",
     "output_type": "stream",
     "text": [
      "I love i\n"
     ]
    }
   ],
   "source": [
    "#EXAMPLE 2\n",
    "#Omitting start or end\n",
    "a = 'I love italy'\n",
    "print(a[:8]) #(in this example as the start is not mentioned, it assumed it as 0)\n"
   ]
  },
  {
   "cell_type": "code",
   "execution_count": 14,
   "id": "4a27490d-58f7-4647-88c0-846c9ee3f946",
   "metadata": {},
   "outputs": [
    {
     "data": {
      "text/plain": [
       "'love italy'"
      ]
     },
     "execution_count": 14,
     "metadata": {},
     "output_type": "execute_result"
    }
   ],
   "source": [
    "a = 'I love italy'\n",
    "a [2:]  #in this example as the end is not mentioned, it goes up to the end"
   ]
  },
  {
   "cell_type": "code",
   "execution_count": 24,
   "id": "5ecc8f52-3851-4fb5-b377-c7f34cff58d3",
   "metadata": {},
   "outputs": [
    {
     "data": {
      "text/plain": [
       "'Ilv tl'"
      ]
     },
     "execution_count": 24,
     "metadata": {},
     "output_type": "execute_result"
    }
   ],
   "source": [
    "#EXAMPLE 3\n",
    "# Using a step\n",
    "a = 'I love italy'\n",
    "a[::2] "
   ]
  },
  {
   "cell_type": "code",
   "execution_count": 36,
   "id": "fe1d5b90-2d5d-4d09-a44f-f1aafb20ba17",
   "metadata": {},
   "outputs": [
    {
     "data": {
      "text/plain": [
       "'World!'"
      ]
     },
     "execution_count": 36,
     "metadata": {},
     "output_type": "execute_result"
    }
   ],
   "source": [
    "#EXAMPLE 4\n",
    "#Negative indexing\n",
    "a = \"Hello, World!\"\n",
    "a [-6 : ]\n"
   ]
  },
  {
   "cell_type": "code",
   "execution_count": null,
   "id": "40e3608e-cd9b-45c8-b893-0235434c5975",
   "metadata": {},
   "outputs": [],
   "source": [
    "# 2. Explain the key features of lists in Python\n"
   ]
  },
  {
   "cell_type": "code",
   "execution_count": null,
   "id": "d4ee5d10-5487-4cda-8ecb-0d338f2dd87d",
   "metadata": {},
   "outputs": [],
   "source": [
    "'''\n",
    "A. List is a powerful and versatile data structure which allows you to store 'n' number of items in it.\n",
    " lists are also mutable.\n",
    "\n",
    " Key features of list -\n",
    "\n",
    " '''"
   ]
  },
  {
   "cell_type": "code",
   "execution_count": 40,
   "id": "4859fcf5-b0be-48e5-88b4-9761275b0fc9",
   "metadata": {},
   "outputs": [
    {
     "data": {
      "text/plain": [
       "'water'"
      ]
     },
     "execution_count": 40,
     "metadata": {},
     "output_type": "execute_result"
    }
   ],
   "source": [
    "# a. lists are Ordered\n",
    "#Lists maintain the order of elements as they are added.\n",
    "#even if we add many items, the order will not be missed\n",
    "\n",
    "# example -\n",
    "\n",
    "grocery_list = ['milk', 'water', 'badam']\n",
    "grocery_list[1]"
   ]
  },
  {
   "cell_type": "code",
   "execution_count": 44,
   "id": "61177126-18c9-4fd6-b3ac-3191abb0578a",
   "metadata": {},
   "outputs": [
    {
     "data": {
      "text/plain": [
       "['icecream', 1, 2, 'eat']"
      ]
     },
     "execution_count": 44,
     "metadata": {},
     "output_type": "execute_result"
    }
   ],
   "source": [
    "# b. lists are hetrogenous\n",
    "# A list can store items of different data types (integers, strings, floats, even other lists)\n",
    "# example -\n",
    "P = [ \"icecream\", 1, 2, \"eat\"]\n",
    "P"
   ]
  },
  {
   "cell_type": "code",
   "execution_count": 48,
   "id": "42eb7f9d-c2c8-4177-89a9-51b662504c0f",
   "metadata": {},
   "outputs": [
    {
     "data": {
      "text/plain": [
       "['oil', 'water', 'badam']"
      ]
     },
     "execution_count": 48,
     "metadata": {},
     "output_type": "execute_result"
    }
   ],
   "source": [
    "# c. lists are mutable\n",
    "# example -\n",
    "\n",
    "grocery_list = ['milk', 'water', 'badam']\n",
    "grocery_list[0] = \"oil\"\n",
    "grocery_list"
   ]
  },
  {
   "cell_type": "code",
   "execution_count": 50,
   "id": "9f5f7ed8-1f33-40f9-92e5-6f0ed70c5aee",
   "metadata": {},
   "outputs": [
    {
     "data": {
      "text/plain": [
       "['pen', 'scale', 'box', 'pencil']"
      ]
     },
     "execution_count": 50,
     "metadata": {},
     "output_type": "execute_result"
    }
   ],
   "source": [
    "# d. Lists are dynamic in size\n",
    "# they can shrink or add elements in them.\n",
    "\n",
    "# example 1 - they can add items in them\n",
    "\n",
    "items = [\"pen\", \"scale\", \"box\"]\n",
    "items.append(\"pencil\")\n",
    "items\n"
   ]
  },
  {
   "cell_type": "code",
   "execution_count": 70,
   "id": "7dc9331d-bace-4714-af70-b30b9ffc6747",
   "metadata": {},
   "outputs": [
    {
     "data": {
      "text/plain": [
       "['pen', 'scale', 'box']"
      ]
     },
     "execution_count": 70,
     "metadata": {},
     "output_type": "execute_result"
    }
   ],
   "source": [
    "# example 2 they can also be removed\n",
    "items = [\"pen\", \"scale\", \"box\", \"pencil\"]\n",
    "items.remove(\"pencil\")\n",
    "items"
   ]
  },
  {
   "cell_type": "code",
   "execution_count": 72,
   "id": "73ccc988-9412-4d8d-982d-4184d628e443",
   "metadata": {},
   "outputs": [
    {
     "data": {
      "text/plain": [
       "'onion'"
      ]
     },
     "execution_count": 72,
     "metadata": {},
     "output_type": "execute_result"
    }
   ],
   "source": [
    "# e. Indexed access\n",
    "# elements can be accessed via zero based indexing, including negative indexing to access from the other end.\n",
    "# example 1 \n",
    "vegetables = [ \"onion\", \"tomato\", \"potato\"]\n",
    "vegetables[0]"
   ]
  },
  {
   "cell_type": "code",
   "execution_count": 74,
   "id": "f4cf706b-ec47-4a01-8123-e479bb10977e",
   "metadata": {},
   "outputs": [
    {
     "data": {
      "text/plain": [
       "'potato'"
      ]
     },
     "execution_count": 74,
     "metadata": {},
     "output_type": "execute_result"
    }
   ],
   "source": [
    "# example 2 negative indexing\n",
    "vegetables = [ \"onion\", \"tomato\", \"potato\"]\n",
    "vegetables[-1]"
   ]
  },
  {
   "cell_type": "code",
   "execution_count": 77,
   "id": "f98f7ef1-d1d1-41b7-8dba-c7ea8860d1c8",
   "metadata": {},
   "outputs": [
    {
     "name": "stdout",
     "output_type": "stream",
     "text": [
      "onion\n",
      "tomato\n",
      "potato\n"
     ]
    }
   ],
   "source": [
    "# f. They are Iterable\n",
    "#example \n",
    "for vegetable in [\"onion\", \"tomato\", \"potato\"]:\n",
    "    print(vegetable)\n"
   ]
  },
  {
   "cell_type": "code",
   "execution_count": 81,
   "id": "5e75bd9f-eecd-4721-8378-e2b564f07783",
   "metadata": {},
   "outputs": [
    {
     "data": {
      "text/plain": [
       "['onion', 'tomato']"
      ]
     },
     "execution_count": 81,
     "metadata": {},
     "output_type": "execute_result"
    }
   ],
   "source": [
    "# g. They allow slicing\n",
    "# example\n",
    "vegetables = [ \"onion\", \"tomato\", \"potato\"]\n",
    "vegetables[0:2]"
   ]
  },
  {
   "cell_type": "code",
   "execution_count": 85,
   "id": "3fb33e7d-24ca-46d1-a303-887a626545d4",
   "metadata": {},
   "outputs": [
    {
     "data": {
      "text/plain": [
       "[1, 2, 3, 4, 5, 6]"
      ]
     },
     "execution_count": 85,
     "metadata": {},
     "output_type": "execute_result"
    }
   ],
   "source": [
    "# h. extend\n",
    "#example \n",
    "a = [1,2,3] \n",
    "b = [4,5,6]\n",
    "a.extend(b)\n",
    "a"
   ]
  },
  {
   "cell_type": "code",
   "execution_count": 92,
   "id": "ca6a8a13-34bd-42cc-9033-fe2575e0d705",
   "metadata": {},
   "outputs": [
    {
     "name": "stdout",
     "output_type": "stream",
     "text": [
      "[1, 2, 3, 4, 5, 6]\n"
     ]
    }
   ],
   "source": [
    "#i. Sort and reverse\n",
    "# sort\n",
    "a = [3, 1, 4, 5, 6, 2]\n",
    "a.sort()\n",
    "print(a)\n"
   ]
  },
  {
   "cell_type": "code",
   "execution_count": 96,
   "id": "21872806-a7c2-4070-8cad-04b60b391a34",
   "metadata": {},
   "outputs": [
    {
     "data": {
      "text/plain": [
       "['gita', 'sita', 'rama']"
      ]
     },
     "execution_count": 96,
     "metadata": {},
     "output_type": "execute_result"
    }
   ],
   "source": [
    "# reverse\n",
    "\n",
    "a = [\"rama\", \"sita\", \"gita\"]\n",
    "a.reverse()\n",
    "a"
   ]
  },
  {
   "cell_type": "code",
   "execution_count": 98,
   "id": "012f490f-6dd7-4411-9aa7-c547fc1d6b7e",
   "metadata": {},
   "outputs": [
    {
     "data": {
      "text/plain": [
       "[1, 2, 3]"
      ]
     },
     "execution_count": 98,
     "metadata": {},
     "output_type": "execute_result"
    }
   ],
   "source": [
    "#j. Supports Nesting\n",
    "# List can add many lists in it\n",
    "# example\n",
    "a = [[1,2,3], [3,4,5], [5,6,7]]\n",
    "a[0]\n"
   ]
  },
  {
   "cell_type": "code",
   "execution_count": 100,
   "id": "f65282af-e2be-4062-83a2-2c898cf25c26",
   "metadata": {},
   "outputs": [
    {
     "data": {
      "text/plain": [
       "[3, 4, 5]"
      ]
     },
     "execution_count": 100,
     "metadata": {},
     "output_type": "execute_result"
    }
   ],
   "source": [
    "a[1]"
   ]
  },
  {
   "cell_type": "code",
   "execution_count": 102,
   "id": "6a07fc3d-13a4-4b88-9d22-75c4b333dedb",
   "metadata": {},
   "outputs": [
    {
     "data": {
      "text/plain": [
       "['kriya', 'manu', 'megha', 'roja', 'reena', 'kusuma']"
      ]
     },
     "execution_count": 102,
     "metadata": {},
     "output_type": "execute_result"
    }
   ],
   "source": [
    "#k. some other operations\n",
    "\n",
    "#concatenation\n",
    "a = [\"kriya\", \"manu\", \"megha\"]\n",
    "b = [\"roja\", \"reena\", \"kusuma\"]\n",
    "a + b"
   ]
  },
  {
   "cell_type": "code",
   "execution_count": 104,
   "id": "0c02f1dc-5a60-4504-acc4-4edef5ccc806",
   "metadata": {},
   "outputs": [
    {
     "data": {
      "text/plain": [
       "[1, 2, 3, 1, 2, 3]"
      ]
     },
     "execution_count": 104,
     "metadata": {},
     "output_type": "execute_result"
    }
   ],
   "source": [
    "#repeated\n",
    "a = [1,2,3]\n",
    "a * 2"
   ]
  },
  {
   "cell_type": "code",
   "execution_count": 111,
   "id": "f3939ca8-32a8-4678-a4c7-da993731caec",
   "metadata": {
    "scrolled": true
   },
   "outputs": [],
   "source": [
    "# 3. describe how to access, modify, and delete elements in a list with examples?"
   ]
  },
  {
   "cell_type": "code",
   "execution_count": null,
   "id": "9b7a5097-f705-44ef-9375-faac2b57c821",
   "metadata": {},
   "outputs": [],
   "source": [
    "# A. Lists are mutable and can carry huge data sets in them, they can be accessed, modified and also deleted, here are follows\n"
   ]
  },
  {
   "cell_type": "code",
   "execution_count": 113,
   "id": "2ee5eab5-bb1c-451c-bf61-76660ba1c25c",
   "metadata": {},
   "outputs": [
    {
     "data": {
      "text/plain": [
       "'chintu'"
      ]
     },
     "execution_count": 113,
     "metadata": {},
     "output_type": "execute_result"
    }
   ],
   "source": [
    "# i). Accessing elements \n",
    "# we can access elements in list either using indexing or slicing\n",
    "\n",
    "#example 1 indexing with zero based indexing\n",
    "a = [\"chintu\", \"bunty\", \"preethi\"]\n",
    "a[0]"
   ]
  },
  {
   "cell_type": "code",
   "execution_count": 115,
   "id": "898e45aa-9dad-4724-8998-bb73c5823ddf",
   "metadata": {},
   "outputs": [
    {
     "data": {
      "text/plain": [
       "'preethi'"
      ]
     },
     "execution_count": 115,
     "metadata": {},
     "output_type": "execute_result"
    }
   ],
   "source": [
    "#example 2 indexing with negative based indexing\n",
    "a[-1]"
   ]
  },
  {
   "cell_type": "code",
   "execution_count": 117,
   "id": "df7eed3c-b242-46f1-9efa-4e15fbaf513f",
   "metadata": {},
   "outputs": [
    {
     "data": {
      "text/plain": [
       "['chintu', 'bunty']"
      ]
     },
     "execution_count": 117,
     "metadata": {},
     "output_type": "execute_result"
    }
   ],
   "source": [
    "#example 3 using slicing\n",
    "a[0:2]"
   ]
  },
  {
   "cell_type": "code",
   "execution_count": 121,
   "id": "57973e0b-3f4a-4957-94db-f0f351129a08",
   "metadata": {},
   "outputs": [
    {
     "data": {
      "text/plain": [
       "['chintu', 'reena', 'preethi']"
      ]
     },
     "execution_count": 121,
     "metadata": {},
     "output_type": "execute_result"
    }
   ],
   "source": [
    "# ii) Modifying\n",
    "\n",
    "#example1 (modifying single element)\n",
    "\n",
    "a = [\"chintu\", \"bunty\", \"preethi\"]\n",
    "a[1] = \"reena\"\n",
    "a\n"
   ]
  },
  {
   "cell_type": "code",
   "execution_count": 123,
   "id": "89b242b0-1f08-4f6c-9eac-d98564ce3f25",
   "metadata": {},
   "outputs": [
    {
     "data": {
      "text/plain": [
       "['chintu', 'bunty', 'naina', 'padma']"
      ]
     },
     "execution_count": 123,
     "metadata": {},
     "output_type": "execute_result"
    }
   ],
   "source": [
    "# example2 modifying multiple elements by slicing\n",
    "\n",
    "a = [\"chintu\", \"bunty\", \"preethi\"]\n",
    "a[2:3] = [\"naina\", \"padma\"]\n",
    "a"
   ]
  },
  {
   "cell_type": "code",
   "execution_count": 125,
   "id": "32653053-8895-4e16-9b03-c461e9a3dfa1",
   "metadata": {},
   "outputs": [
    {
     "data": {
      "text/plain": [
       "['chintu', 'bunty', 'naina', 'padma', 'pushpa']"
      ]
     },
     "execution_count": 125,
     "metadata": {},
     "output_type": "execute_result"
    }
   ],
   "source": [
    "#example 3 append a new element\n",
    "a.append(\"pushpa\")\n",
    "a"
   ]
  },
  {
   "cell_type": "code",
   "execution_count": 129,
   "id": "3f9848fa-57de-42aa-ac1e-a819046f552f",
   "metadata": {},
   "outputs": [
    {
     "data": {
      "text/plain": [
       "['chintu', 'bunty', 'namrata', 'namrata', 'naina', 'padma', 'pushpa']"
      ]
     },
     "execution_count": 129,
     "metadata": {},
     "output_type": "execute_result"
    }
   ],
   "source": [
    "#example 4 insert at any specific position\n",
    "a.insert(2,\"namrata\")\n",
    "a"
   ]
  },
  {
   "cell_type": "code",
   "execution_count": 131,
   "id": "a4680a4d-1511-48a7-9d33-fe1cf8c53bca",
   "metadata": {},
   "outputs": [
    {
     "data": {
      "text/plain": [
       "[2, 3, 4, 5, 6, 7, 8]"
      ]
     },
     "execution_count": 131,
     "metadata": {},
     "output_type": "execute_result"
    }
   ],
   "source": [
    "# iii) Deleting elements\n",
    "# we can delete elements using delete, remove, pop or slicing.\n",
    "\n",
    "# example 1 (delete by indices)\n",
    "a = [ 1,2,3,4,5,6,7,8]\n",
    "del a[0]\n",
    "a"
   ]
  },
  {
   "cell_type": "code",
   "execution_count": 133,
   "id": "1de223cc-d3cc-4c26-a868-440d15e6fe35",
   "metadata": {},
   "outputs": [
    {
     "data": {
      "text/plain": [
       "[3, 4, 5, 6, 7, 8]"
      ]
     },
     "execution_count": 133,
     "metadata": {},
     "output_type": "execute_result"
    }
   ],
   "source": [
    "#example 2 ( delete by remove)\n",
    "a.remove(2)\n",
    "a"
   ]
  },
  {
   "cell_type": "code",
   "execution_count": 135,
   "id": "4fa2559e-2930-4e96-b0e9-b7e06aecaae0",
   "metadata": {},
   "outputs": [
    {
     "data": {
      "text/plain": [
       "[3, 4, 5, 6, 7]"
      ]
     },
     "execution_count": 135,
     "metadata": {},
     "output_type": "execute_result"
    }
   ],
   "source": [
    "#example 3 \n",
    "a.pop() #it removes the last element if not mentioned.\n",
    "a"
   ]
  },
  {
   "cell_type": "code",
   "execution_count": 141,
   "id": "f7326db6-dd0c-44b1-8b1b-43fdffd14406",
   "metadata": {},
   "outputs": [
    {
     "data": {
      "text/plain": [
       "[3, 4, 6, 7]"
      ]
     },
     "execution_count": 141,
     "metadata": {},
     "output_type": "execute_result"
    }
   ],
   "source": [
    "#example 4 (delete multiple elements)\n",
    "del a[2:3]\n",
    "a\n"
   ]
  },
  {
   "cell_type": "code",
   "execution_count": 143,
   "id": "ee01166c-62ff-4767-b737-100ddb28a709",
   "metadata": {},
   "outputs": [
    {
     "data": {
      "text/plain": [
       "[]"
      ]
     },
     "execution_count": 143,
     "metadata": {},
     "output_type": "execute_result"
    }
   ],
   "source": [
    "#example 5 (clear all)\n",
    "a.clear()\n",
    "a"
   ]
  },
  {
   "cell_type": "code",
   "execution_count": null,
   "id": "fa59e565-dfee-4af1-bf7a-3c8b9629b9ad",
   "metadata": {},
   "outputs": [],
   "source": [
    "# 4. Compare and contrast tuples and lists with examples"
   ]
  },
  {
   "cell_type": "code",
   "execution_count": 147,
   "id": "202cfe79-94a1-4bef-8304-70f9f23a53a5",
   "metadata": {},
   "outputs": [
    {
     "data": {
      "text/plain": [
       "['eraser', 'pens', 'pencils']"
      ]
     },
     "execution_count": 147,
     "metadata": {},
     "output_type": "execute_result"
    }
   ],
   "source": [
    "'''\n",
    "A. Tuples and Lists both data types that can store collection of items.\n",
    "However they are different in their properties and use cases.\n",
    "\n",
    "Comparisions -\n",
    "\n",
    "a) Mutability\n",
    "\n",
    "- Lists are mutable\n",
    "- Tuples are not mutable\n",
    "\n",
    "example 1 Lists are mutable\n",
    "'''\n",
    "\n",
    "school = [\"books\", \"pens\", \"pencils\"]\n",
    "school[0] = \"eraser\"\n",
    "school"
   ]
  },
  {
   "cell_type": "code",
   "execution_count": 149,
   "id": "385d27ec-1018-4eec-a564-f4c9200d2810",
   "metadata": {},
   "outputs": [
    {
     "ename": "TypeError",
     "evalue": "'tuple' object does not support item assignment",
     "output_type": "error",
     "traceback": [
      "\u001b[0;31m---------------------------------------------------------------------------\u001b[0m",
      "\u001b[0;31mTypeError\u001b[0m                                 Traceback (most recent call last)",
      "Cell \u001b[0;32mIn[149], line 4\u001b[0m\n\u001b[1;32m      1\u001b[0m \u001b[38;5;66;03m#example 2 Tuples are not mutable\u001b[39;00m\n\u001b[1;32m      3\u001b[0m school \u001b[38;5;241m=\u001b[39m (\u001b[38;5;124m\"\u001b[39m\u001b[38;5;124mbooks\u001b[39m\u001b[38;5;124m\"\u001b[39m, \u001b[38;5;124m\"\u001b[39m\u001b[38;5;124mpens\u001b[39m\u001b[38;5;124m\"\u001b[39m, \u001b[38;5;124m\"\u001b[39m\u001b[38;5;124mpencils\u001b[39m\u001b[38;5;124m\"\u001b[39m)\n\u001b[0;32m----> 4\u001b[0m school[\u001b[38;5;241m0\u001b[39m] \u001b[38;5;241m=\u001b[39m \u001b[38;5;124m\"\u001b[39m\u001b[38;5;124meraser\u001b[39m\u001b[38;5;124m\"\u001b[39m\n\u001b[1;32m      5\u001b[0m school\n",
      "\u001b[0;31mTypeError\u001b[0m: 'tuple' object does not support item assignment"
     ]
    }
   ],
   "source": [
    "#example 2 Tuples are not mutable\n",
    "\n",
    "school = (\"books\", \"pens\", \"pencils\")\n",
    "school[0] = \"eraser\"\n",
    "school\n",
    "\n",
    "# hence the error as they are not mutable"
   ]
  },
  {
   "cell_type": "code",
   "execution_count": null,
   "id": "dab66d81-47c7-4720-9cea-ed981b22d2c8",
   "metadata": {},
   "outputs": [],
   "source": [
    "# b. Syntax\n",
    "# Lists defined using the square bracket []\n",
    "# Tuples defined using the paranthesis () "
   ]
  },
  {
   "cell_type": "code",
   "execution_count": 153,
   "id": "98165392-6424-4c93-b104-d1822d7c3dd9",
   "metadata": {},
   "outputs": [
    {
     "data": {
      "text/plain": [
       "list"
      ]
     },
     "execution_count": 153,
     "metadata": {},
     "output_type": "execute_result"
    }
   ],
   "source": [
    "# example of lists\n",
    "\n",
    "a = [3,2,1]\n",
    "type(a)"
   ]
  },
  {
   "cell_type": "code",
   "execution_count": 155,
   "id": "755b7f3b-4d87-4843-8512-18c6c5893c64",
   "metadata": {},
   "outputs": [
    {
     "data": {
      "text/plain": [
       "tuple"
      ]
     },
     "execution_count": 155,
     "metadata": {},
     "output_type": "execute_result"
    }
   ],
   "source": [
    "# example of tuples\n",
    "\n",
    "a = (3,2,1)\n",
    "type(a)"
   ]
  },
  {
   "cell_type": "code",
   "execution_count": null,
   "id": "d3c13837-6581-4b0d-b7ff-ddaff28793c9",
   "metadata": {},
   "outputs": [],
   "source": [
    "'''\n",
    "c. Performance\n",
    "- Performance of list is slower due to mutability and as it is dynamic in nature\n",
    "- Performance of tuples is faster as it is immutable and static in nature.\n",
    "'''"
   ]
  },
  {
   "cell_type": "code",
   "execution_count": null,
   "id": "1fc391fa-d2fb-4e5b-b6a0-ab7a9881f28f",
   "metadata": {},
   "outputs": [],
   "source": [
    "'''\n",
    "d. Use cases\n",
    "\n",
    "- Lists are useful for the collection of items which may change in future.\n",
    "- Tuples are suitable for the fixed collection of items.\n",
    "\n",
    "'''"
   ]
  },
  {
   "cell_type": "code",
   "execution_count": null,
   "id": "f04918cc-28be-40d8-8470-8fbb0d8dd19d",
   "metadata": {},
   "outputs": [],
   "source": [
    "'''\n",
    "e. Methods\n",
    "- Lists have many methods, example - append(), remove()\n",
    "- Tuples have limited methods, example - count(), index()\n",
    "'''"
   ]
  },
  {
   "cell_type": "code",
   "execution_count": 158,
   "id": "e48693ae-9768-477a-8342-6f543b44dfd4",
   "metadata": {},
   "outputs": [
    {
     "data": {
      "text/plain": [
       "[1, 2, 3, 4, 5]"
      ]
     },
     "execution_count": 158,
     "metadata": {},
     "output_type": "execute_result"
    }
   ],
   "source": [
    "#example - Lists - append()\n",
    "a = [1,2,3,4]\n",
    "a.append(5)\n",
    "a"
   ]
  },
  {
   "cell_type": "code",
   "execution_count": 160,
   "id": "1b9b8c75-2458-4a88-817d-792edc8bdb35",
   "metadata": {},
   "outputs": [
    {
     "data": {
      "text/plain": [
       "[1, 2, 3, 4]"
      ]
     },
     "execution_count": 160,
     "metadata": {},
     "output_type": "execute_result"
    }
   ],
   "source": [
    "#example - lists - remove()\n",
    "a.remove(5)\n",
    "a\n"
   ]
  },
  {
   "cell_type": "code",
   "execution_count": 162,
   "id": "4eb0b7a8-a33e-43ac-9cad-766e84fd5980",
   "metadata": {},
   "outputs": [
    {
     "data": {
      "text/plain": [
       "3"
      ]
     },
     "execution_count": 162,
     "metadata": {},
     "output_type": "execute_result"
    }
   ],
   "source": [
    "#example - Tuples - count()\n",
    "a = (1,1,1,2,2,2,2,3,3,3,3,)\n",
    "a.count(1)"
   ]
  },
  {
   "cell_type": "code",
   "execution_count": 164,
   "id": "5432e51c-507c-48ad-aa22-587c2f86021c",
   "metadata": {},
   "outputs": [
    {
     "data": {
      "text/plain": [
       "'keerthi'"
      ]
     },
     "execution_count": 164,
     "metadata": {},
     "output_type": "execute_result"
    }
   ],
   "source": [
    "#example - Tuples - index\n",
    "a = (\"keerthi\", \"sushma\", \"neelima\")\n",
    "a[0]"
   ]
  },
  {
   "cell_type": "code",
   "execution_count": null,
   "id": "606b30a8-75a1-4f09-83b1-d365b63a9ad5",
   "metadata": {},
   "outputs": [],
   "source": [
    "'''\n",
    "f. Memory usage\n",
    "- Lists consumes more memory due to extra features\n",
    "- Tuples consumes less memory as they are static\n",
    "'''"
   ]
  },
  {
   "cell_type": "code",
   "execution_count": null,
   "id": "f39050ca-d48f-4f19-8a16-88641a035b86",
   "metadata": {},
   "outputs": [],
   "source": [
    "'''\n",
    "g. Accessing elements\n",
    "\n",
    "- Both Tuples and lists supports indexing and slicing\n",
    "\n",
    "'''"
   ]
  },
  {
   "cell_type": "code",
   "execution_count": 166,
   "id": "0961b91b-5156-443d-8ab5-f281c2166257",
   "metadata": {},
   "outputs": [
    {
     "data": {
      "text/plain": [
       "'sushma'"
      ]
     },
     "execution_count": 166,
     "metadata": {},
     "output_type": "execute_result"
    }
   ],
   "source": [
    "#example - Tuples - index - Accessing\n",
    "a = (\"keerthi\", \"sushma\", \"neelima\")\n",
    "a[1]"
   ]
  },
  {
   "cell_type": "code",
   "execution_count": 168,
   "id": "14717220-2bfc-4404-a198-fa995c5fdac6",
   "metadata": {},
   "outputs": [
    {
     "data": {
      "text/plain": [
       "'neelima'"
      ]
     },
     "execution_count": 168,
     "metadata": {},
     "output_type": "execute_result"
    }
   ],
   "source": [
    "#example - List - index - Accessing\n",
    "a = [\"keerthi\", \"sushma\", \"neelima\"]\n",
    "a[2]"
   ]
  },
  {
   "cell_type": "code",
   "execution_count": 170,
   "id": "96e6fbe8-b940-47a9-8c6b-ea1a0470dde7",
   "metadata": {},
   "outputs": [
    {
     "data": {
      "text/plain": [
       "('keerthi', 'sushma')"
      ]
     },
     "execution_count": 170,
     "metadata": {},
     "output_type": "execute_result"
    }
   ],
   "source": [
    "#example - Tuples - Slicing - Accessing\n",
    "a = (\"keerthi\", \"sushma\", \"neelima\")\n",
    "a[0:2]"
   ]
  },
  {
   "cell_type": "code",
   "execution_count": 172,
   "id": "58dc265d-733e-4e42-a66e-25865d35bf42",
   "metadata": {},
   "outputs": [
    {
     "data": {
      "text/plain": [
       "['keerthi']"
      ]
     },
     "execution_count": 172,
     "metadata": {},
     "output_type": "execute_result"
    }
   ],
   "source": [
    "#example - List - Slicing - Accessing\n",
    "a = [\"keerthi\", \"sushma\", \"neelima\"]\n",
    "a[0:1]"
   ]
  },
  {
   "cell_type": "code",
   "execution_count": null,
   "id": "c4b0d23b-1780-4ffd-8f5c-82013edb77bc",
   "metadata": {},
   "outputs": [],
   "source": [
    "'''\n",
    "Hence lists are mutable and used when we need a dynamic data structure \n",
    "\n",
    "whereas tuples are considered when we need static data structure.\n",
    "\n",
    "'''"
   ]
  },
  {
   "cell_type": "code",
   "execution_count": null,
   "id": "97340fea-c9cc-422b-b414-f1f2b471ca43",
   "metadata": {},
   "outputs": [],
   "source": [
    "# 5. Describe the key features of sets and provide examples of their uses"
   ]
  },
  {
   "cell_type": "code",
   "execution_count": null,
   "id": "83867e66-d451-469f-869b-63c1425c2fce",
   "metadata": {},
   "outputs": [],
   "source": [
    "# A. Sets are unordered and unique collection of elements"
   ]
  },
  {
   "cell_type": "code",
   "execution_count": 174,
   "id": "392f8f60-a759-486f-8b80-8436b9818ff0",
   "metadata": {},
   "outputs": [
    {
     "data": {
      "text/plain": [
       "set"
      ]
     },
     "execution_count": 174,
     "metadata": {},
     "output_type": "execute_result"
    }
   ],
   "source": [
    "# a. It is defined using curly braces {}\n",
    "#example \n",
    "\n",
    "a = {1,2,3}\n",
    "type(a)"
   ]
  },
  {
   "cell_type": "code",
   "execution_count": 176,
   "id": "fba03419-821b-4baa-9c9f-f7fc6a3a9cb4",
   "metadata": {},
   "outputs": [
    {
     "data": {
      "text/plain": [
       "{1, 2, 3, 'keerthi'}"
      ]
     },
     "execution_count": 176,
     "metadata": {},
     "output_type": "execute_result"
    }
   ],
   "source": [
    "# b. It doesnt allow any duplicate elements. It has unique collection of elements.\n",
    "#example \n",
    "\n",
    "b = {\"keerthi\", 1,1,1,2,2,2,2,\"keerthi\", 3,3,3,3}\n",
    "b"
   ]
  },
  {
   "cell_type": "code",
   "execution_count": 178,
   "id": "16f119cb-09f8-4dad-b185-6f5173d7a970",
   "metadata": {},
   "outputs": [
    {
     "data": {
      "text/plain": [
       "{1, 2, 3, 'keerthi'}"
      ]
     },
     "execution_count": 178,
     "metadata": {},
     "output_type": "execute_result"
    }
   ],
   "source": [
    "# use cases - it removes the duplicacies\n",
    "#for example \n",
    "list = [\"keerthi\", 1,1,1,2,2,2,2,\"keerthi\", 3,3,3,3]\n",
    "s = set(list)\n",
    "s # with this we removed the duplicacies in the list"
   ]
  },
  {
   "cell_type": "code",
   "execution_count": 180,
   "id": "8f9aed91-955e-451a-b260-99c4ac265138",
   "metadata": {},
   "outputs": [
    {
     "ename": "TypeError",
     "evalue": "'set' object is not subscriptable",
     "output_type": "error",
     "traceback": [
      "\u001b[0;31m---------------------------------------------------------------------------\u001b[0m",
      "\u001b[0;31mTypeError\u001b[0m                                 Traceback (most recent call last)",
      "Cell \u001b[0;32mIn[180], line 5\u001b[0m\n\u001b[1;32m      1\u001b[0m \u001b[38;5;66;03m# It is unordered - indexing and slicing are not allowed\u001b[39;00m\n\u001b[1;32m      2\u001b[0m \n\u001b[1;32m      3\u001b[0m \u001b[38;5;66;03m#example 1 Indexing\u001b[39;00m\n\u001b[1;32m      4\u001b[0m a \u001b[38;5;241m=\u001b[39m {\u001b[38;5;241m1\u001b[39m,\u001b[38;5;241m2\u001b[39m,\u001b[38;5;241m3\u001b[39m,\u001b[38;5;241m4\u001b[39m}\n\u001b[0;32m----> 5\u001b[0m a[\u001b[38;5;241m0\u001b[39m]\n",
      "\u001b[0;31mTypeError\u001b[0m: 'set' object is not subscriptable"
     ]
    }
   ],
   "source": [
    "# It is unordered - indexing and slicing are not allowed\n",
    "\n",
    "#example 1 Indexing\n",
    "a = {1,2,3,4}\n",
    "a[0] #hence the error"
   ]
  },
  {
   "cell_type": "code",
   "execution_count": 182,
   "id": "9e884244-9e48-411e-a91f-bdd08f7c84a8",
   "metadata": {},
   "outputs": [
    {
     "ename": "TypeError",
     "evalue": "'set' object is not subscriptable",
     "output_type": "error",
     "traceback": [
      "\u001b[0;31m---------------------------------------------------------------------------\u001b[0m",
      "\u001b[0;31mTypeError\u001b[0m                                 Traceback (most recent call last)",
      "Cell \u001b[0;32mIn[182], line 3\u001b[0m\n\u001b[1;32m      1\u001b[0m \u001b[38;5;66;03m# example 2 Slicing \u001b[39;00m\n\u001b[1;32m      2\u001b[0m a \u001b[38;5;241m=\u001b[39m {\u001b[38;5;241m1\u001b[39m,\u001b[38;5;241m2\u001b[39m,\u001b[38;5;241m3\u001b[39m,\u001b[38;5;241m4\u001b[39m}\n\u001b[0;32m----> 3\u001b[0m a[\u001b[38;5;241m0\u001b[39m:\u001b[38;5;241m1\u001b[39m]\n",
      "\u001b[0;31mTypeError\u001b[0m: 'set' object is not subscriptable"
     ]
    }
   ],
   "source": [
    "# example 2 Slicing \n",
    "a = {1,2,3,4}\n",
    "a[0:1] #hence the error as slicing "
   ]
  },
  {
   "cell_type": "code",
   "execution_count": 184,
   "id": "5e7d37b9-0d79-4857-8f71-ad254c35ee6f",
   "metadata": {},
   "outputs": [
    {
     "ename": "TypeError",
     "evalue": "unhashable type: 'list'",
     "output_type": "error",
     "traceback": [
      "\u001b[0;31m---------------------------------------------------------------------------\u001b[0m",
      "\u001b[0;31mTypeError\u001b[0m                                 Traceback (most recent call last)",
      "Cell \u001b[0;32mIn[184], line 3\u001b[0m\n\u001b[1;32m      1\u001b[0m \u001b[38;5;66;03m#c. Elements in sets has to be hashable\u001b[39;00m\n\u001b[1;32m      2\u001b[0m \u001b[38;5;66;03m# example\u001b[39;00m\n\u001b[0;32m----> 3\u001b[0m a \u001b[38;5;241m=\u001b[39m {\u001b[38;5;241m1\u001b[39m,\u001b[38;5;241m2\u001b[39m,\u001b[38;5;241m3\u001b[39m,[\u001b[38;5;241m4\u001b[39m,\u001b[38;5;241m5\u001b[39m,\u001b[38;5;241m6\u001b[39m]}\n\u001b[1;32m      4\u001b[0m a\n",
      "\u001b[0;31mTypeError\u001b[0m: unhashable type: 'list'"
     ]
    }
   ],
   "source": [
    "#c. Elements in sets has to be hashable\n",
    "# example (including list in sets)\n",
    "a = {1,2,3,[4,5,6]}\n",
    "a"
   ]
  },
  {
   "cell_type": "code",
   "execution_count": 186,
   "id": "74377b68-46a6-4b2d-878d-e04d246645bd",
   "metadata": {},
   "outputs": [
    {
     "data": {
      "text/plain": [
       "{(4, 5, 6), 1, 2, 3}"
      ]
     },
     "execution_count": 186,
     "metadata": {},
     "output_type": "execute_result"
    }
   ],
   "source": [
    "# example 2 (including tuple in sets)\n",
    "a = {1,2,3,(4,5,6)}\n",
    "a"
   ]
  },
  {
   "cell_type": "code",
   "execution_count": 188,
   "id": "ae43b2be-1512-4930-baba-6f0a39afeb7f",
   "metadata": {},
   "outputs": [
    {
     "data": {
      "text/plain": [
       "{1, 2, 3, 4, 5}"
      ]
     },
     "execution_count": 188,
     "metadata": {},
     "output_type": "execute_result"
    }
   ],
   "source": [
    "# d. Sets are mutable\n",
    "#example - add elemet\n",
    "s = {1,2,3,4}\n",
    "s.add(5) # not compulsory that it will add to the last element\n",
    "s"
   ]
  },
  {
   "cell_type": "code",
   "execution_count": 192,
   "id": "7671ca1b-86c1-4432-a772-ebf82bb4cf65",
   "metadata": {},
   "outputs": [
    {
     "data": {
      "text/plain": [
       "1"
      ]
     },
     "execution_count": 192,
     "metadata": {},
     "output_type": "execute_result"
    }
   ],
   "source": [
    "# example - pop out the element\n",
    "s = {1,2,3,4,5}\n",
    "s.pop() # not compulsory that it will remove last element as in lists, it removes randomly."
   ]
  },
  {
   "cell_type": "code",
   "execution_count": 194,
   "id": "d9c31603-8006-474e-9692-3c840981c988",
   "metadata": {},
   "outputs": [
    {
     "data": {
      "text/plain": [
       "{2, 4, 5}"
      ]
     },
     "execution_count": 194,
     "metadata": {},
     "output_type": "execute_result"
    }
   ],
   "source": [
    "#example - if you want to specifically remove an element\n",
    "s.remove(3)\n",
    "s"
   ]
  },
  {
   "cell_type": "code",
   "execution_count": 198,
   "id": "d77c0dc4-9bfc-4eea-bdbf-418847cb223e",
   "metadata": {},
   "outputs": [
    {
     "data": {
      "text/plain": [
       "{2, 4, 5, 'a', 'j', 'y'}"
      ]
     },
     "execution_count": 198,
     "metadata": {},
     "output_type": "execute_result"
    }
   ],
   "source": [
    "# example - to update\n",
    "s.update (\"ajay\")\n",
    "s"
   ]
  },
  {
   "cell_type": "code",
   "execution_count": 202,
   "id": "7abf0aab-c2da-496c-bfd4-9029f7f23504",
   "metadata": {},
   "outputs": [
    {
     "data": {
      "text/plain": [
       "{2, 4, 5, 'a', 'ajay', 'j', 'y'}"
      ]
     },
     "execution_count": 202,
     "metadata": {},
     "output_type": "execute_result"
    }
   ],
   "source": [
    "#example to include as whole\n",
    "\n",
    "s. update([\"ajay\"])\n",
    "s"
   ]
  },
  {
   "cell_type": "code",
   "execution_count": 204,
   "id": "0dda071b-48fe-42b5-85a5-0fd12dadec8d",
   "metadata": {},
   "outputs": [
    {
     "data": {
      "text/plain": [
       "set()"
      ]
     },
     "execution_count": 204,
     "metadata": {},
     "output_type": "execute_result"
    }
   ],
   "source": [
    "# example to clear all\n",
    "s.clear()\n",
    "s"
   ]
  },
  {
   "cell_type": "code",
   "execution_count": 208,
   "id": "55a5ecdd-ce3b-4799-8810-2594b3fa3338",
   "metadata": {},
   "outputs": [
    {
     "data": {
      "text/plain": [
       "{1, 3}"
      ]
     },
     "execution_count": 208,
     "metadata": {},
     "output_type": "execute_result"
    }
   ],
   "source": [
    "#example to discard\n",
    "b ={1,2,3}\n",
    "b.discard(2) #error will not ne thrown if the element is not present unlike remove\n",
    "b"
   ]
  },
  {
   "cell_type": "code",
   "execution_count": 212,
   "id": "670edb6e-89de-465d-bf47-67eb1a56020f",
   "metadata": {},
   "outputs": [
    {
     "name": "stdout",
     "output_type": "stream",
     "text": [
      "{1, 2, 3, 4, 5, 6}\n"
     ]
    }
   ],
   "source": [
    "# e. Operations of sets\n",
    "\n",
    "#i. Mathematical operations\n",
    "\n",
    "# - Union - combines elements from 2 sets, excluding duplicacies.\n",
    "\n",
    "#example \n",
    "a ={1,2,3,4}\n",
    "b={4,5,6}\n",
    "print(a|b) "
   ]
  },
  {
   "cell_type": "code",
   "execution_count": 214,
   "id": "85118176-5e17-4c27-8f9e-bbe076f8a5c1",
   "metadata": {},
   "outputs": [
    {
     "name": "stdout",
     "output_type": "stream",
     "text": [
      "{4}\n"
     ]
    }
   ],
   "source": [
    "#- Intersection - returns only common elements in both of the sets\n",
    "a ={1,2,3,4}\n",
    "b={4,5,6}\n",
    "print(a & b)"
   ]
  },
  {
   "cell_type": "code",
   "execution_count": 216,
   "id": "6c9ebd65-564b-4d9b-826b-9aff5d8a4413",
   "metadata": {},
   "outputs": [
    {
     "name": "stdout",
     "output_type": "stream",
     "text": [
      "{1, 2, 3}\n"
     ]
    }
   ],
   "source": [
    "# - Difference - returns the element which is present in the first set but not the second\n",
    "a ={1,2,3,4}\n",
    "b={4,5,6}\n",
    "print (a - b)"
   ]
  },
  {
   "cell_type": "code",
   "execution_count": 218,
   "id": "acd33e70-47b0-474f-9e78-c7978d447c8a",
   "metadata": {},
   "outputs": [
    {
     "name": "stdout",
     "output_type": "stream",
     "text": [
      "{1, 2, 3, 5, 6}\n"
     ]
    }
   ],
   "source": [
    "# - Symmetric difference - returns the element that are present in either of sets but not both\n",
    "a ={1,2,3,4}\n",
    "b={4,5,6}\n",
    "print(a ^ b)"
   ]
  },
  {
   "cell_type": "code",
   "execution_count": 222,
   "id": "6a9aa8d7-ca5a-4239-9eda-4fd716da5035",
   "metadata": {},
   "outputs": [
    {
     "ename": "AttributeError",
     "evalue": "'frozenset' object has no attribute 'remove'",
     "output_type": "error",
     "traceback": [
      "\u001b[0;31m---------------------------------------------------------------------------\u001b[0m",
      "\u001b[0;31mAttributeError\u001b[0m                            Traceback (most recent call last)",
      "Cell \u001b[0;32mIn[222], line 4\u001b[0m\n\u001b[1;32m      2\u001b[0m a \u001b[38;5;241m=\u001b[39m {\u001b[38;5;241m1\u001b[39m,\u001b[38;5;241m2\u001b[39m,\u001b[38;5;241m3\u001b[39m,\u001b[38;5;241m4\u001b[39m}\n\u001b[1;32m      3\u001b[0m a \u001b[38;5;241m=\u001b[39m \u001b[38;5;28mfrozenset\u001b[39m({\u001b[38;5;241m1\u001b[39m,\u001b[38;5;241m2\u001b[39m,\u001b[38;5;241m3\u001b[39m,\u001b[38;5;241m4\u001b[39m})\n\u001b[0;32m----> 4\u001b[0m a\u001b[38;5;241m.\u001b[39mremove(\u001b[38;5;241m1\u001b[39m)\n",
      "\u001b[0;31mAttributeError\u001b[0m: 'frozenset' object has no attribute 'remove'"
     ]
    }
   ],
   "source": [
    "#f . Frozen sets - As sets are mutable, we can make the immutable or said freeze by using this operation\n",
    "a = {1,2,3,4}\n",
    "a = frozenset({1,2,3,4})\n",
    "a.remove(1) # hence the error"
   ]
  },
  {
   "cell_type": "code",
   "execution_count": null,
   "id": "a67cb6fa-5703-4e22-9589-fcc15a4e0ede",
   "metadata": {},
   "outputs": [],
   "source": [
    "# 6. Discuss the use cases of tuples and sets in Python programming"
   ]
  },
  {
   "cell_type": "code",
   "execution_count": 224,
   "id": "677b4700-03b6-41d2-b237-67e4222a7684",
   "metadata": {},
   "outputs": [
    {
     "data": {
      "text/plain": [
       "{1, 2, 3, 'megha'}"
      ]
     },
     "execution_count": 224,
     "metadata": {},
     "output_type": "execute_result"
    }
   ],
   "source": [
    "'''\n",
    "A. The Tuples and sets have distinct purposes in the python programming\n",
    "\n",
    "a. Use cases of sets\n",
    "\n",
    "i. Removing duplicates from the list or other iterable\n",
    "'''\n",
    "\n",
    "# example\n",
    "\n",
    "list = [\"megha\", 1,1,1,2,2,2,2,\"megha\", 3,3,3,3]\n",
    "s = set(list)\n",
    "s # with this we removed the duplicacies in the list"
   ]
  },
  {
   "cell_type": "code",
   "execution_count": 257,
   "id": "293d1845-e7fa-4151-a08d-a1cb84959a56",
   "metadata": {},
   "outputs": [
    {
     "name": "stdout",
     "output_type": "stream",
     "text": [
      "True\n"
     ]
    }
   ],
   "source": [
    "#ii. Fast Membership Testing\n",
    "# Sets provide efficient membership checks, making them ideal for scenarios where you need to check the presence of an element frequently.\n",
    "fruits = {'apple', 'banana', 'cherry'}\n",
    "print('banana' in fruits)"
   ]
  },
  {
   "cell_type": "code",
   "execution_count": 261,
   "id": "fd070ce7-04c2-405e-9cec-1900498d9f93",
   "metadata": {},
   "outputs": [
    {
     "name": "stdout",
     "output_type": "stream",
     "text": [
      "{1, 2, 3, 4, 5}\n"
     ]
    }
   ],
   "source": [
    "# iii. Mathematical Set Operations:\n",
    "#Sets support operations like union, intersection, difference, and symmetric difference.\n",
    "#example\n",
    "a = {1, 2, 3}\n",
    "b = {3, 4, 5}\n",
    "#union \n",
    "print(a | b) "
   ]
  },
  {
   "cell_type": "code",
   "execution_count": 263,
   "id": "1b366b1d-ffeb-43e1-82cb-aa49f01b3b24",
   "metadata": {},
   "outputs": [
    {
     "name": "stdout",
     "output_type": "stream",
     "text": [
      "{3}\n"
     ]
    }
   ],
   "source": [
    "#example\n",
    "#intersection\n",
    "print(a & b)  "
   ]
  },
  {
   "cell_type": "code",
   "execution_count": 265,
   "id": "71f25fe7-b010-453d-a307-445f9361d4dc",
   "metadata": {},
   "outputs": [
    {
     "name": "stdout",
     "output_type": "stream",
     "text": [
      "{1, 2}\n"
     ]
    }
   ],
   "source": [
    "#Difference\n",
    "print(a - b) "
   ]
  },
  {
   "cell_type": "code",
   "execution_count": 267,
   "id": "5bd42f2d-2f42-48a9-8fbc-aefe131ad0f3",
   "metadata": {},
   "outputs": [
    {
     "name": "stdout",
     "output_type": "stream",
     "text": [
      "{2, 3, 4}\n"
     ]
    }
   ],
   "source": [
    "# iV Efficient Filtering:\n",
    "# Sets can filter elements based on inclusion or exclusion criteria.\n",
    "#example \n",
    "a = {1,2,2,3,4}\n",
    "b = {2,2,3,4,5}\n",
    "print(a&b)"
   ]
  },
  {
   "cell_type": "code",
   "execution_count": null,
   "id": "f21ca21d-7078-436c-af4c-4bd9f2f64bc9",
   "metadata": {},
   "outputs": [],
   "source": [
    "'''\n",
    "b. use cases of tuples\n",
    "\n",
    "A tuple is an immutable, ordered collection of elements. \n",
    "Once created, its contents cannot be modified.\n",
    "'''\n"
   ]
  },
  {
   "cell_type": "code",
   "execution_count": null,
   "id": "23b9215b-2c9b-4979-8a1a-8525603d4546",
   "metadata": {},
   "outputs": [],
   "source": [
    "#use cases of tuples\n",
    "#i. storing fixed data\n",
    "# tuples are useful to save fixed data like birth date, coordinates, employee ids, anything which is constant.\n",
    " coordinates = (40.7128, 74.0060) #latitudes and longitudes"
   ]
  },
  {
   "cell_type": "code",
   "execution_count": 255,
   "id": "d01f5bd6-a9f1-4663-9816-cdc67101ea28",
   "metadata": {},
   "outputs": [
    {
     "data": {
      "text/plain": [
       "{(1, 2, 3): 'ajay'}"
      ]
     },
     "execution_count": 255,
     "metadata": {},
     "output_type": "execute_result"
    }
   ],
   "source": [
    "# Using as Dictionary Keys:\n",
    "# Tuples, being immutable, can serve as keys in dictionaries, especially for composite keys.\n",
    "dictionary = { (1,2,3) : \"ajay\"}\n",
    "dictionary"
   ]
  },
  {
   "cell_type": "code",
   "execution_count": null,
   "id": "88d11021-57a6-4d95-936c-8d5a3b82da4e",
   "metadata": {},
   "outputs": [],
   "source": [
    "#Memory Efficiency:\n",
    "#Tuples consume less memory than lists and are faster due to their immutability, making them a good choice for static data.\n",
    "#when compared to the list the memory used is less as it is static."
   ]
  },
  {
   "cell_type": "code",
   "execution_count": null,
   "id": "d8b3981b-cf81-4475-b1dd-c29293befa80",
   "metadata": {},
   "outputs": [],
   "source": [
    "#Its better to use tuples when we need a fixed, ordered collection of items, such as constants, records, or function returns.\n",
    "#Its better to use sets when you need an unordered collection of unique elements or want to perform set-theoretic operations like union, intersection, and difference."
   ]
  },
  {
   "cell_type": "code",
   "execution_count": null,
   "id": "0d72c8a1-34a5-4072-9926-c941b537e64a",
   "metadata": {},
   "outputs": [],
   "source": [
    "# 7. Describe how to add, modify, and delete items in a dictionary with examples"
   ]
  },
  {
   "cell_type": "code",
   "execution_count": 227,
   "id": "6ef7609e-122d-4b2b-91eb-b850e79615db",
   "metadata": {},
   "outputs": [
    {
     "data": {
      "text/plain": [
       "{'name': 'sujana', 'Age': 22, 'place': 'suryapet', 'study': 'degree'}"
      ]
     },
     "execution_count": 227,
     "metadata": {},
     "output_type": "execute_result"
    }
   ],
   "source": [
    "#A. Below are the examples of adding, modifying and deleting items in the dictionary\n",
    "\n",
    "# a. Adding items to a dictionary\n",
    "# we can simply add by assigning a new value to a new key\n",
    "#example\n",
    "dictionary = {\"name\" : \"sujana\", \"Age\" : 22, \"place\" : \"suryapet\"}\n",
    "dictionary[\"study\"] = \"degree\"\n",
    "dictionary"
   ]
  },
  {
   "cell_type": "code",
   "execution_count": 229,
   "id": "f37f3ec9-5ecb-4505-b0f7-b5b3b3aca0ba",
   "metadata": {},
   "outputs": [
    {
     "data": {
      "text/plain": [
       "{'name': 'sujana',\n",
       " 'Age': 22,\n",
       " 'place': 'suryapet',\n",
       " 'study': 'degree',\n",
       " 'age': 30}"
      ]
     },
     "execution_count": 229,
     "metadata": {},
     "output_type": "execute_result"
    }
   ],
   "source": [
    "# b. Modifying items in dictionary \n",
    "#example - to modify, we have to update the value of the existing key.\n",
    "dictionary = {'name': 'sujana', 'Age': 22, 'place': 'suryapet', 'study': 'degree'}\n",
    "dictionary ['age'] = 30\n",
    "dictionary"
   ]
  },
  {
   "cell_type": "code",
   "execution_count": 237,
   "id": "6ab50548-d746-4677-9b27-a63f62ea408c",
   "metadata": {},
   "outputs": [
    {
     "data": {
      "text/plain": [
       "{'name': 'sujana', 'Age': 22, 'study': 'degree'}"
      ]
     },
     "execution_count": 237,
     "metadata": {},
     "output_type": "execute_result"
    }
   ],
   "source": [
    "# c. Deleting Items from a Dictionary\n",
    "# i. To remove a specific pair of values : using del statement\n",
    "#example \n",
    "dictionary = {'name': 'sujana', 'Age': 22, 'place': 'suryapet', 'study': 'degree'}\n",
    "del dictionary['place']\n",
    "dictionary"
   ]
  },
  {
   "cell_type": "code",
   "execution_count": 241,
   "id": "48fa6a3d-39e5-49fc-b58b-368618a04995",
   "metadata": {},
   "outputs": [
    {
     "data": {
      "text/plain": [
       "'degree'"
      ]
     },
     "execution_count": 241,
     "metadata": {},
     "output_type": "execute_result"
    }
   ],
   "source": [
    "#ii. To remove a key-value pair and returns the value - using pop()\n",
    "#example\n",
    "dictionary = {'name': 'sujana', 'Age': 22, 'study': 'degree'}\n",
    "dictionary.pop('study')"
   ]
  },
  {
   "cell_type": "code",
   "execution_count": 243,
   "id": "fa26bb49-9d5f-4c7a-917f-0564a0ccc233",
   "metadata": {},
   "outputs": [
    {
     "data": {
      "text/plain": [
       "{'name': 'sujana', 'Age': 22}"
      ]
     },
     "execution_count": 243,
     "metadata": {},
     "output_type": "execute_result"
    }
   ],
   "source": [
    "dictionary"
   ]
  },
  {
   "cell_type": "code",
   "execution_count": 247,
   "id": "3f3d7c73-335d-4f1d-b541-c427f6fc5a6d",
   "metadata": {},
   "outputs": [
    {
     "data": {
      "text/plain": [
       "{}"
      ]
     },
     "execution_count": 247,
     "metadata": {},
     "output_type": "execute_result"
    }
   ],
   "source": [
    "#iii. To remove all items or empty the dictionary - using clear()\n",
    "#example\n",
    "dictionary = {'name': 'sujana', 'Age': 22}\n",
    "dictionary.clear()\n",
    "dictionary"
   ]
  },
  {
   "cell_type": "code",
   "execution_count": null,
   "id": "7facf4d0-055a-4c24-9c23-0b81dedb6b06",
   "metadata": {},
   "outputs": [],
   "source": [
    "#8. Discuss the importance of dictionary keys being immutable and provide examples."
   ]
  },
  {
   "cell_type": "code",
   "execution_count": null,
   "id": "3fb200c4-2acf-4023-a52d-b83a380dd9e4",
   "metadata": {},
   "outputs": [],
   "source": [
    "'''\n",
    "A. Importance of Dictionary Keys Being Immutable\n",
    "- In Python, dictionary keys must be immutable because they are stored using a hashing mechanism.\n",
    "- The hash value of a key is used to uniquely identify it within the dictionary which helps in fast lookups which ensures the data integrity. \n",
    "- As Keys are immutable they are more reliable.\n",
    "\n",
    "Keys are required to be immutable as\n",
    "\n",
    "a. Hashing for fast access - \n",
    "Dictionaries use hash tables to quickly locate values associated with keys.\n",
    "An immutable key ensures that its hash value does not change, maintaining the integrity of the key-value mapping.\n",
    "\n",
    "b. Data Integrity:\n",
    "If keys were mutable and could change after being added to a dictionary, the hash value might no longer correspond to the correct location in the hash table, leading to data corruption or lookup errors.\n",
    "\n",
    "c. Uniqueness:\n",
    "Immutable objects, like strings and tuples, have consistent and unique hash values, ensuring each key is distinct and can be used reliably. Also we cant use list and dictionary as keys as they are mutable. \n",
    "\n",
    "#example of immutable keys\n",
    "\n",
    "- Tuples (containing only immutable elements)\n",
    "- int and float\n",
    "- string\n",
    "'''"
   ]
  },
  {
   "cell_type": "code",
   "execution_count": 249,
   "id": "2880e983-6080-4c5c-ad1f-8a1275515b21",
   "metadata": {},
   "outputs": [
    {
     "data": {
      "text/plain": [
       "{'name': 'keerthi', 33: 'Age', (1, 2): 'Tuple'}"
      ]
     },
     "execution_count": 249,
     "metadata": {},
     "output_type": "execute_result"
    }
   ],
   "source": [
    "#example \n",
    "dictionary = { 'name': 'keerthi', 33: 'Age', (1, 2): 'Tuple'}   # String key # Integer key # tuple key respectively\n",
    "dictionary"
   ]
  },
  {
   "cell_type": "code",
   "execution_count": 251,
   "id": "57628d01-ef0e-48d1-88dd-34eff0e6c855",
   "metadata": {},
   "outputs": [
    {
     "ename": "TypeError",
     "evalue": "unhashable type: 'list'",
     "output_type": "error",
     "traceback": [
      "\u001b[0;31m---------------------------------------------------------------------------\u001b[0m",
      "\u001b[0;31mTypeError\u001b[0m                                 Traceback (most recent call last)",
      "Cell \u001b[0;32mIn[251], line 7\u001b[0m\n\u001b[1;32m      1\u001b[0m \u001b[38;5;66;03m# key types that are not supported\u001b[39;00m\n\u001b[1;32m      2\u001b[0m \u001b[38;5;66;03m# lists\u001b[39;00m\n\u001b[1;32m      3\u001b[0m \u001b[38;5;66;03m# dictionaries\u001b[39;00m\n\u001b[1;32m      4\u001b[0m \u001b[38;5;66;03m# sets\u001b[39;00m\n\u001b[1;32m      5\u001b[0m \u001b[38;5;66;03m# as all are immutable\u001b[39;00m\n\u001b[1;32m      6\u001b[0m \u001b[38;5;66;03m#example \u001b[39;00m\n\u001b[0;32m----> 7\u001b[0m dictionary \u001b[38;5;241m=\u001b[39m { [\u001b[38;5;241m1\u001b[39m,\u001b[38;5;241m2\u001b[39m,\u001b[38;5;241m3\u001b[39m] : \u001b[38;5;124m'\u001b[39m\u001b[38;5;124mkeerthi\u001b[39m\u001b[38;5;124m'\u001b[39m, {\u001b[38;5;241m1\u001b[39m,\u001b[38;5;241m2\u001b[39m}: \u001b[38;5;124m'\u001b[39m\u001b[38;5;124mAge\u001b[39m\u001b[38;5;124m'\u001b[39m, (\u001b[38;5;241m1\u001b[39m, \u001b[38;5;241m2\u001b[39m): \u001b[38;5;124m'\u001b[39m\u001b[38;5;124mTuple\u001b[39m\u001b[38;5;124m'\u001b[39m}\n",
      "\u001b[0;31mTypeError\u001b[0m: unhashable type: 'list'"
     ]
    }
   ],
   "source": [
    "# key types that are not supported\n",
    "# lists\n",
    "# dictionaries\n",
    "# sets\n",
    "# as all are immutable\n",
    "#example \n",
    "dictionary = { [1,2,3] : 'keerthi', {1,2}: 'Age', (1, 2): 'Tuple'} \n",
    "# hence the error\n"
   ]
  },
  {
   "cell_type": "code",
   "execution_count": null,
   "id": "a0fd586e-51d8-440d-bc8f-2272fcd27280",
   "metadata": {},
   "outputs": [],
   "source": [
    "# By restricting keys to immutable types, Python guarantees that dictionaries remain efficient and dependable data structures."
   ]
  }
 ],
 "metadata": {
  "kernelspec": {
   "display_name": "Python 3 (ipykernel)",
   "language": "python",
   "name": "python3"
  },
  "language_info": {
   "codemirror_mode": {
    "name": "ipython",
    "version": 3
   },
   "file_extension": ".py",
   "mimetype": "text/x-python",
   "name": "python",
   "nbconvert_exporter": "python",
   "pygments_lexer": "ipython3",
   "version": "3.12.7"
  }
 },
 "nbformat": 4,
 "nbformat_minor": 5
}
